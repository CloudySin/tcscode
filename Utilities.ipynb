{
 "cells": [
  {
   "cell_type": "markdown",
   "metadata": {},
   "source": [
    "# Utility code"
   ]
  },
  {
   "cell_type": "markdown",
   "metadata": {},
   "source": [
    "Some utility code for **Introduction to Theoretical Computer Science**"
   ]
  },
  {
   "cell_type": "markdown",
   "metadata": {},
   "source": [
    "### Parse programs"
   ]
  },
  {
   "cell_type": "code",
   "execution_count": 1,
   "metadata": {},
   "outputs": [],
   "source": [
    "def parseline(line, numargs = 0):\n",
    "    \"\"\"Parse a line of the form foo = 'OP( bar1, bar2, bar3)'\n",
    "       to ['foo','OP','bar1','bar2','bar2'].\n",
    "       If numargs > number of arguments in line then add empty strings to the list as needed.\"\"\"\n",
    "    i = line.find(\"=\")\n",
    "    j = line.find(\"(\")\n",
    "    k = line.find(\")\")\n",
    "    if i<0 or j<0 or k<0: raise Exception(f\"Line not formatted properly: {line}\")\n",
    "    args = [a.strip() for a in line[j+1:k].split(\",\")]\n",
    "    if len(args)<numargs: args += [\"\"]*(numargs-len(args))\n",
    "    return [line[:i].strip() , line[i+1:j].strip()] + args\n",
    "        "
   ]
  },
  {
   "cell_type": "code",
   "execution_count": 2,
   "metadata": {},
   "outputs": [
    {
     "data": {
      "text/plain": [
       "['foo', 'NOT', 'blah', '']"
      ]
     },
     "execution_count": 2,
     "metadata": {},
     "output_type": "execute_result"
    }
   ],
   "source": [
    "parseline(\"foo = NOT( blah)\",2)"
   ]
  },
  {
   "cell_type": "markdown",
   "metadata": {},
   "source": [
    "## Drawing circuits"
   ]
  },
  {
   "cell_type": "code",
   "execution_count": 3,
   "metadata": {},
   "outputs": [],
   "source": [
    "import graphviz\n",
    "from graphviz import Graph\n",
    "from graphviz import Digraph"
   ]
  },
  {
   "cell_type": "code",
   "execution_count": 17,
   "metadata": {},
   "outputs": [],
   "source": [
    "class Circuit:\n",
    "    \"\"\"Class for modelling Boolean Circuits. Allows circuits with arbitrary gates, including rendering and evaluating.\"\"\"\n",
    "    \n",
    "    def __init__(self, n=0):\n",
    "        self.nodes = {}\n",
    "        self.in_neighbors = {}\n",
    "        self.counter = 0\n",
    "        self.outputs = {}\n",
    "        self.values = {}\n",
    "        self.X  = {}\n",
    "        self.setinputs(n)\n",
    "    \n",
    "    def setinputs(self,n):\n",
    "        \"\"\"Set number of inputs to n (increases number was smaller than n before, otherwise does nothing.)\"\"\"\n",
    "        for i in range(n): \n",
    "            self.nodes[f\"input_{i}\"] = (\"INPUT\",i)\n",
    "            self.X[i] = f\"input_{i}\"\n",
    "            self.in_neighbors[f\"input_{i}\"] = []\n",
    "        \n",
    "    \n",
    "    def gate(self,op,*inputs):\n",
    "        \"\"\"Add a new gate.\"\"\"\n",
    "        label = f\"gate_{self.counter}\"\n",
    "        self.nodes[label] = (\"GATE\",op)\n",
    "        self.in_neighbors[label] = inputs\n",
    "        self.counter += 1\n",
    "        return label\n",
    "    \n",
    "    def output(self,gate,j):\n",
    "        \"\"\"Designate a gate as an output gate\"\"\"\n",
    "        self.outputs[gate] = j\n",
    "    \n",
    "    def evalnode(self,node,X):\n",
    "        \"\"\"Evaluate the value of a node node with respect to a certain input assignment.\"\"\"\n",
    "        if node in self.values: return self.values[node]\n",
    "        if self.nodes[node][0]==\"INPUT\": \n",
    "            val = X[self.nodes[node][1]]\n",
    "        else:\n",
    "            val =  self.nodes[node][1](*[self.evalnode(u,X) for u in self.in_neighbors[node]])\n",
    "        self.values[node] = val\n",
    "        return val\n",
    "    \n",
    "    def __call__(self,*X):\n",
    "        \"\"\"Evaluate circuit on an input\"\"\"\n",
    "        if isinstance(X, str):\n",
    "            X = [int(X[i]) for i in range(len(X))]\n",
    "            \n",
    "        if len(X) != len(self.X): raise Exception(\"Mismatched number of inputs.\")\n",
    "        self.values = {}\n",
    "        Y = {}\n",
    "        m = 0\n",
    "        for o,j in self.outputs.items():\n",
    "            Y[j]= self.evalnode(o,X)\n",
    "            if j>m: m=j\n",
    "        return [Y[j] for j in range(m+1)]\n",
    "    \n",
    "    def render_eval(self,*X):\n",
    "        \"\"\"Render evaluated circuit on input X\"\"\"\n",
    "        y = self(*X)\n",
    "        return self.graph(self.values)\n",
    "\n",
    "    def _repr_svg_(self): return self.graph()._repr_svg_()\n",
    "    \n",
    "    def opname(self,op):\n",
    "        names = {\"AND\":\"∧\", \"OR\":\"∨\", \"NOT\":\"¬\", \"NAND\":\"¬∧\"}\n",
    "        if op in names: return names[op]\n",
    "        return op\n",
    "    \n",
    "    def graph(self, vals=None,size=\"10,5\"):\n",
    "        WIDTH_BASE = 0.5\n",
    "        \"\"\"Return representation of circuit as a graph.\"\"\"\n",
    "        \n",
    "        G =  Digraph(graph_attr= {\"rankdir\":\"LR\", \"size\":size,\"ratio\":\"fill\"},node_attr={\"fixedsize\":\"true\"},strict=False) \n",
    "        \n",
    "        # Start with inputs\n",
    "        with G.subgraph(name='inputs', graph_attr={'rank':'same'}) as c:\n",
    "            for (key,node) in self.nodes.items():\n",
    "                if node[0] == \"INPUT\":\n",
    "                    label  = f\"X[{node[1]}]\"\n",
    "                    fontcolor='blue'\n",
    "                    shape = 'circle'\n",
    "                    width = WIDTH_BASE\n",
    "                    if vals and key in vals: \n",
    "                        label += f\"<br/><font color='green' face='monospace'><B>{vals[key]}</B></font>\"\n",
    "                        # width += WIDTH_BASE\n",
    "                    label = f\"< {label} >\"\n",
    "                    c.node(key,label=label,fontcolor=fontcolor, shape=shape,width=f\"{width}\",orientation=\"90\",fontsize=\"8\")\n",
    "            \n",
    "        # Then gates\n",
    "        for (key,node) in self.nodes.items():\n",
    "            if node[0] == \"INPUT\": continue\n",
    "            label = self.opname(node[1].__name__)\n",
    "            fontcolor='black'\n",
    "            shape='invhouse'\n",
    "            width = WIDTH_BASE\n",
    "            if key in self.outputs:\n",
    "                label = f\"{label}<font color='red'>→Y[{self.outputs[key]}]</font>\"\n",
    "                width += WIDTH_BASE\n",
    "            if vals and key in vals: \n",
    "                label += f\"<br/><font color='green' face='monospace'><B>{vals[key]}</B></font>\"\n",
    "                # width += WIDTH_BASE\n",
    "            \n",
    "            label = f\"<{label}>\"\n",
    "                \n",
    "            G.node(key,label=label,fontcolor=fontcolor ,width=f\"{width}\",shape=shape,orientation=\"90\",fontsize=\"8\")\n",
    "            for v in self.in_neighbors[key]:\n",
    "                G.edge(v,key)\n",
    "            \n",
    "        return G"
   ]
  },
  {
   "cell_type": "code",
   "execution_count": null,
   "metadata": {},
   "outputs": [],
   "source": []
  },
  {
   "cell_type": "code",
   "execution_count": 5,
   "metadata": {},
   "outputs": [],
   "source": [
    "def NAND(a,b): return 1 - a*b"
   ]
  },
  {
   "cell_type": "code",
   "execution_count": 6,
   "metadata": {},
   "outputs": [
    {
     "data": {
      "image/svg+xml": [
       "<?xml version=\"1.0\" encoding=\"UTF-8\" standalone=\"no\"?>\r\n",
       "<!DOCTYPE svg PUBLIC \"-//W3C//DTD SVG 1.1//EN\"\r\n",
       " \"http://www.w3.org/Graphics/SVG/1.1/DTD/svg11.dtd\">\r\n",
       "<!-- Generated by graphviz version 2.38.0 (20140413.2041)\r\n",
       " -->\r\n",
       "<!-- Title: %3 Pages: 1 -->\r\n",
       "<svg width=\"711pt\" height=\"360pt\"\r\n",
       " viewBox=\"0.00 0.00 711.25 360.00\" xmlns=\"http://www.w3.org/2000/svg\" xmlns:xlink=\"http://www.w3.org/1999/xlink\">\r\n",
       "<g id=\"graph0\" class=\"graph\" transform=\"scale(0.975424 0.975424) rotate(0) translate(4 365.07)\">\r\n",
       "<title>%3</title>\r\n",
       "<polygon fill=\"white\" stroke=\"none\" points=\"-4,4 -4,-365.07 725.169,-365.07 725.169,4 -4,4\"/>\r\n",
       "<!-- input_0 -->\r\n",
       "<g id=\"node1\" class=\"node\"><title>input_0</title>\r\n",
       "<ellipse fill=\"none\" stroke=\"black\" cx=\"38.1693\" cy=\"-180.413\" rx=\"18.9396\" ry=\"18.9396\"/>\r\n",
       "<text text-anchor=\"middle\" x=\"38.1693\" y=\"-178.513\" font-family=\"Times New Roman,serif\" font-size=\"8.00\" fill=\"blue\">X[0]</text>\r\n",
       "</g>\r\n",
       "<!-- gate_0 -->\r\n",
       "<g id=\"node4\" class=\"node\"><title>gate_0</title>\r\n",
       "<polygon fill=\"none\" stroke=\"black\" points=\"216.85,-228.413 236.26,-246.413 216.85,-264.413 185.443,-264.396 185.443,-228.43 216.85,-228.413\"/>\r\n",
       "<text text-anchor=\"middle\" x=\"208.169\" y=\"-244.513\" font-family=\"Times New Roman,serif\" font-size=\"8.00\">¬∧</text>\r\n",
       "</g>\r\n",
       "<!-- input_0&#45;&gt;gate_0 -->\r\n",
       "<g id=\"edge1\" class=\"edge\"><title>input_0&#45;&gt;gate_0</title>\r\n",
       "<path fill=\"none\" stroke=\"black\" d=\"M55.892,-186.982C83.8095,-197.95 140.34,-220.158 175.836,-234.103\"/>\r\n",
       "<polygon fill=\"black\" stroke=\"black\" points=\"174.662,-237.402 185.249,-237.801 177.222,-230.887 174.662,-237.402\"/>\r\n",
       "</g>\r\n",
       "<!-- gate_1 -->\r\n",
       "<g id=\"node5\" class=\"node\"><title>gate_1</title>\r\n",
       "<polygon fill=\"none\" stroke=\"black\" points=\"216.85,-96.4127 236.26,-114.413 216.85,-132.413 185.443,-132.396 185.443,-96.4295 216.85,-96.4127\"/>\r\n",
       "<text text-anchor=\"middle\" x=\"208.169\" y=\"-112.513\" font-family=\"Times New Roman,serif\" font-size=\"8.00\">¬∧</text>\r\n",
       "</g>\r\n",
       "<!-- input_0&#45;&gt;gate_1 -->\r\n",
       "<g id=\"edge3\" class=\"edge\"><title>input_0&#45;&gt;gate_1</title>\r\n",
       "<path fill=\"none\" stroke=\"black\" d=\"M55.892,-173.843C83.8095,-162.875 140.34,-140.667 175.836,-126.722\"/>\r\n",
       "<polygon fill=\"black\" stroke=\"black\" points=\"177.222,-129.938 185.249,-123.024 174.662,-123.423 177.222,-129.938\"/>\r\n",
       "</g>\r\n",
       "<!-- input_1 -->\r\n",
       "<g id=\"node2\" class=\"node\"><title>input_1</title>\r\n",
       "<ellipse fill=\"none\" stroke=\"black\" cx=\"38.1693\" cy=\"-315.413\" rx=\"18.9396\" ry=\"18.9396\"/>\r\n",
       "<text text-anchor=\"middle\" x=\"38.1693\" y=\"-313.513\" font-family=\"Times New Roman,serif\" font-size=\"8.00\" fill=\"blue\">X[1]</text>\r\n",
       "</g>\r\n",
       "<!-- input_1&#45;&gt;gate_0 -->\r\n",
       "<g id=\"edge2\" class=\"edge\"><title>input_1&#45;&gt;gate_0</title>\r\n",
       "<path fill=\"none\" stroke=\"black\" d=\"M55.892,-308.544C83.8095,-297.078 140.34,-273.861 175.836,-259.282\"/>\r\n",
       "<polygon fill=\"black\" stroke=\"black\" points=\"177.329,-262.452 185.249,-255.416 174.669,-255.977 177.329,-262.452\"/>\r\n",
       "</g>\r\n",
       "<!-- input_2 -->\r\n",
       "<g id=\"node3\" class=\"node\"><title>input_2</title>\r\n",
       "<ellipse fill=\"none\" stroke=\"black\" cx=\"38.1693\" cy=\"-45.4127\" rx=\"18.9396\" ry=\"18.9396\"/>\r\n",
       "<text text-anchor=\"middle\" x=\"38.1693\" y=\"-43.5127\" font-family=\"Times New Roman,serif\" font-size=\"8.00\" fill=\"blue\">X[2]</text>\r\n",
       "</g>\r\n",
       "<!-- input_2&#45;&gt;gate_1 -->\r\n",
       "<g id=\"edge4\" class=\"edge\"><title>input_2&#45;&gt;gate_1</title>\r\n",
       "<path fill=\"none\" stroke=\"black\" d=\"M55.892,-52.281C83.8095,-63.7471 140.34,-86.9648 175.836,-101.544\"/>\r\n",
       "<polygon fill=\"black\" stroke=\"black\" points=\"174.669,-104.848 185.249,-105.41 177.329,-98.3731 174.669,-104.848\"/>\r\n",
       "</g>\r\n",
       "<!-- gate_2 -->\r\n",
       "<g id=\"node6\" class=\"node\"><title>gate_2</title>\r\n",
       "<polygon fill=\"none\" stroke=\"black\" points=\"405.85,-162.413 425.26,-180.413 405.85,-198.413 374.443,-198.396 374.443,-162.43 405.85,-162.413\"/>\r\n",
       "<text text-anchor=\"middle\" x=\"397.169\" y=\"-178.513\" font-family=\"Times New Roman,serif\" font-size=\"8.00\">¬∧</text>\r\n",
       "</g>\r\n",
       "<!-- gate_0&#45;&gt;gate_2 -->\r\n",
       "<g id=\"edge5\" class=\"edge\"><title>gate_0&#45;&gt;gate_2</title>\r\n",
       "<path fill=\"none\" stroke=\"black\" d=\"M228.828,-239.474C261.108,-228.081 325.627,-205.31 364.442,-191.611\"/>\r\n",
       "<polygon fill=\"black\" stroke=\"black\" points=\"365.925,-194.799 374.19,-188.17 363.596,-188.198 365.925,-194.799\"/>\r\n",
       "</g>\r\n",
       "<!-- gate_1&#45;&gt;gate_2 -->\r\n",
       "<g id=\"edge6\" class=\"edge\"><title>gate_1&#45;&gt;gate_2</title>\r\n",
       "<path fill=\"none\" stroke=\"black\" d=\"M228.828,-121.351C261.108,-132.744 325.627,-155.515 364.442,-169.215\"/>\r\n",
       "<polygon fill=\"black\" stroke=\"black\" points=\"363.596,-172.628 374.19,-172.655 365.925,-166.027 363.596,-172.628\"/>\r\n",
       "</g>\r\n",
       "<!-- gate_3 -->\r\n",
       "<g id=\"node7\" class=\"node\"><title>gate_3</title>\r\n",
       "<polygon fill=\"none\" stroke=\"black\" points=\"639.678,-162.413 672.121,-180.413 639.678,-198.413 587.184,-198.396 587.184,-162.43 639.678,-162.413\"/>\r\n",
       "<text text-anchor=\"middle\" x=\"625.169\" y=\"-178.513\" font-family=\"Times New Roman,serif\" font-size=\"8.00\" fill=\"red\">¬∧ →Y[0]</text>\r\n",
       "</g>\r\n",
       "<!-- gate_2&#45;&gt;gate_3 -->\r\n",
       "<g id=\"edge7\" class=\"edge\"><title>gate_2&#45;&gt;gate_3</title>\r\n",
       "<path fill=\"none\" stroke=\"black\" d=\"M421.083,-176.137C457.465,-173.367 529.204,-172.923 576.933,-174.804\"/>\r\n",
       "<polygon fill=\"black\" stroke=\"black\" points=\"576.882,-178.305 587.028,-175.255 577.194,-171.312 576.882,-178.305\"/>\r\n",
       "</g>\r\n",
       "<!-- gate_2&#45;&gt;gate_3 -->\r\n",
       "<g id=\"edge8\" class=\"edge\"><title>gate_2&#45;&gt;gate_3</title>\r\n",
       "<path fill=\"none\" stroke=\"black\" d=\"M421.083,-184.688C457.465,-187.458 529.204,-187.903 576.933,-186.022\"/>\r\n",
       "<polygon fill=\"black\" stroke=\"black\" points=\"577.194,-189.514 587.028,-185.57 576.882,-182.521 577.194,-189.514\"/>\r\n",
       "</g>\r\n",
       "</g>\r\n",
       "</svg>\r\n"
      ],
      "text/plain": [
       "<__main__.Circuit at 0x1679d68d048>"
      ]
     },
     "execution_count": 6,
     "metadata": {},
     "output_type": "execute_result"
    }
   ],
   "source": [
    "C = Circuit(3)\n",
    "g = C.gate(NAND,C.X[0],C.X[1])\n",
    "h = C.gate(NAND,C.X[0],C.X[2])\n",
    "z = C.gate(NAND,g,h)\n",
    "y = C.gate(NAND,z,z)\n",
    "C.output(y,0)\n",
    "C"
   ]
  },
  {
   "cell_type": "code",
   "execution_count": 7,
   "metadata": {},
   "outputs": [
    {
     "data": {
      "image/svg+xml": [
       "<?xml version=\"1.0\" encoding=\"UTF-8\" standalone=\"no\"?>\r\n",
       "<!DOCTYPE svg PUBLIC \"-//W3C//DTD SVG 1.1//EN\"\r\n",
       " \"http://www.w3.org/Graphics/SVG/1.1/DTD/svg11.dtd\">\r\n",
       "<!-- Generated by graphviz version 2.38.0 (20140413.2041)\r\n",
       " -->\r\n",
       "<!-- Title: %3 Pages: 1 -->\r\n",
       "<svg width=\"712pt\" height=\"360pt\"\r\n",
       " viewBox=\"0.00 0.00 711.70 360.00\" xmlns=\"http://www.w3.org/2000/svg\" xmlns:xlink=\"http://www.w3.org/1999/xlink\">\r\n",
       "<g id=\"graph0\" class=\"graph\" transform=\"scale(0.976072 0.976072) rotate(0) translate(4 364.825)\">\r\n",
       "<title>%3</title>\r\n",
       "<polygon fill=\"white\" stroke=\"none\" points=\"-4,4 -4,-364.825 725.151,-364.825 725.151,4 -4,4\"/>\r\n",
       "<!-- input_0 -->\r\n",
       "<g id=\"node1\" class=\"node\"><title>input_0</title>\r\n",
       "<ellipse fill=\"none\" stroke=\"black\" cx=\"45.1507\" cy=\"-180.322\" rx=\"27.4558\" ry=\"27.4558\"/>\r\n",
       "<text text-anchor=\"middle\" x=\"45.1507\" y=\"-178.422\" font-family=\"Times New Roman,serif\" font-size=\"8.00\" fill=\"blue\">X[0] &#160;(1)</text>\r\n",
       "</g>\r\n",
       "<!-- gate_0 -->\r\n",
       "<g id=\"node4\" class=\"node\"><title>gate_0</title>\r\n",
       "<polygon fill=\"none\" stroke=\"black\" points=\"227.086,-211.322 253.775,-229.322 227.086,-247.322 183.903,-247.305 183.903,-211.339 227.086,-211.322\"/>\r\n",
       "<text text-anchor=\"middle\" x=\"215.151\" y=\"-227.422\" font-family=\"Times New Roman,serif\" font-size=\"8.00\">¬∧ &#160;(0)</text>\r\n",
       "</g>\r\n",
       "<!-- input_0&#45;&gt;gate_0 -->\r\n",
       "<g id=\"edge1\" class=\"edge\"><title>input_0&#45;&gt;gate_0</title>\r\n",
       "<path fill=\"none\" stroke=\"black\" d=\"M71.6662,-187.764C98.8338,-195.688 142.204,-208.337 173.967,-217.602\"/>\r\n",
       "<polygon fill=\"black\" stroke=\"black\" points=\"173.257,-221.04 183.837,-220.48 175.217,-214.32 173.257,-221.04\"/>\r\n",
       "</g>\r\n",
       "<!-- gate_1 -->\r\n",
       "<g id=\"node5\" class=\"node\"><title>gate_1</title>\r\n",
       "<polygon fill=\"none\" stroke=\"black\" points=\"227.086,-113.322 253.775,-131.322 227.086,-149.322 183.903,-149.305 183.903,-113.339 227.086,-113.322\"/>\r\n",
       "<text text-anchor=\"middle\" x=\"215.151\" y=\"-129.422\" font-family=\"Times New Roman,serif\" font-size=\"8.00\">¬∧ &#160;(0)</text>\r\n",
       "</g>\r\n",
       "<!-- input_0&#45;&gt;gate_1 -->\r\n",
       "<g id=\"edge3\" class=\"edge\"><title>input_0&#45;&gt;gate_1</title>\r\n",
       "<path fill=\"none\" stroke=\"black\" d=\"M71.6662,-172.88C98.8338,-164.956 142.204,-152.306 173.967,-143.042\"/>\r\n",
       "<polygon fill=\"black\" stroke=\"black\" points=\"175.217,-146.323 183.837,-140.163 173.257,-139.603 175.217,-146.323\"/>\r\n",
       "</g>\r\n",
       "<!-- input_1 -->\r\n",
       "<g id=\"node2\" class=\"node\"><title>input_1</title>\r\n",
       "<ellipse fill=\"none\" stroke=\"black\" cx=\"45.1507\" cy=\"-311.322\" rx=\"27.4558\" ry=\"27.4558\"/>\r\n",
       "<text text-anchor=\"middle\" x=\"45.1507\" y=\"-309.422\" font-family=\"Times New Roman,serif\" font-size=\"8.00\" fill=\"blue\">X[1] &#160;(1)</text>\r\n",
       "</g>\r\n",
       "<!-- input_1&#45;&gt;gate_0 -->\r\n",
       "<g id=\"edge2\" class=\"edge\"><title>input_1&#45;&gt;gate_0</title>\r\n",
       "<path fill=\"none\" stroke=\"black\" d=\"M69.8646,-299.747C97.0308,-286.487 141.977,-264.549 174.494,-248.678\"/>\r\n",
       "<polygon fill=\"black\" stroke=\"black\" points=\"176.28,-251.701 183.732,-244.169 173.21,-245.41 176.28,-251.701\"/>\r\n",
       "</g>\r\n",
       "<!-- input_2 -->\r\n",
       "<g id=\"node3\" class=\"node\"><title>input_2</title>\r\n",
       "<ellipse fill=\"none\" stroke=\"black\" cx=\"45.1507\" cy=\"-49.3217\" rx=\"27.4558\" ry=\"27.4558\"/>\r\n",
       "<text text-anchor=\"middle\" x=\"45.1507\" y=\"-47.4217\" font-family=\"Times New Roman,serif\" font-size=\"8.00\" fill=\"blue\">X[2] &#160;(1)</text>\r\n",
       "</g>\r\n",
       "<!-- input_2&#45;&gt;gate_1 -->\r\n",
       "<g id=\"edge4\" class=\"edge\"><title>input_2&#45;&gt;gate_1</title>\r\n",
       "<path fill=\"none\" stroke=\"black\" d=\"M69.8646,-60.8964C97.0308,-74.1561 141.977,-96.0942 174.494,-111.966\"/>\r\n",
       "<polygon fill=\"black\" stroke=\"black\" points=\"173.21,-115.233 183.732,-116.474 176.28,-108.943 173.21,-115.233\"/>\r\n",
       "</g>\r\n",
       "<!-- gate_2 -->\r\n",
       "<g id=\"node6\" class=\"node\"><title>gate_2</title>\r\n",
       "<polygon fill=\"none\" stroke=\"black\" points=\"416.086,-162.322 442.775,-180.322 416.086,-198.322 372.903,-198.305 372.903,-162.339 416.086,-162.322\"/>\r\n",
       "<text text-anchor=\"middle\" x=\"404.151\" y=\"-178.422\" font-family=\"Times New Roman,serif\" font-size=\"8.00\">¬∧ &#160;(1)</text>\r\n",
       "</g>\r\n",
       "<!-- gate_0&#45;&gt;gate_2 -->\r\n",
       "<g id=\"edge5\" class=\"edge\"><title>gate_0&#45;&gt;gate_2</title>\r\n",
       "<path fill=\"none\" stroke=\"black\" d=\"M243.342,-222.197C274.823,-213.948 326.967,-200.284 363.09,-190.819\"/>\r\n",
       "<polygon fill=\"black\" stroke=\"black\" points=\"364.037,-194.189 372.823,-188.268 362.263,-187.418 364.037,-194.189\"/>\r\n",
       "</g>\r\n",
       "<!-- gate_1&#45;&gt;gate_2 -->\r\n",
       "<g id=\"edge6\" class=\"edge\"><title>gate_1&#45;&gt;gate_2</title>\r\n",
       "<path fill=\"none\" stroke=\"black\" d=\"M243.342,-138.447C274.823,-146.696 326.967,-160.359 363.09,-169.825\"/>\r\n",
       "<polygon fill=\"black\" stroke=\"black\" points=\"362.263,-173.226 372.823,-172.375 364.037,-166.454 362.263,-173.226\"/>\r\n",
       "</g>\r\n",
       "<!-- gate_3 -->\r\n",
       "<g id=\"node7\" class=\"node\"><title>gate_3</title>\r\n",
       "<polygon fill=\"none\" stroke=\"black\" points=\"642.915,-162.322 682.636,-180.322 642.915,-198.322 578.644,-198.305 578.644,-162.339 642.915,-162.322\"/>\r\n",
       "<text text-anchor=\"middle\" x=\"625.151\" y=\"-178.422\" font-family=\"Times New Roman,serif\" font-size=\"8.00\" fill=\"red\">¬∧ →Y[0] &#160;(0)</text>\r\n",
       "</g>\r\n",
       "<!-- gate_2&#45;&gt;gate_3 -->\r\n",
       "<g id=\"edge7\" class=\"edge\"><title>gate_2&#45;&gt;gate_3</title>\r\n",
       "<path fill=\"none\" stroke=\"black\" d=\"M435.602,-175.477C469.804,-173.396 526.037,-173.02 568.208,-174.348\"/>\r\n",
       "<polygon fill=\"black\" stroke=\"black\" points=\"568.214,-177.85 578.333,-174.711 568.465,-170.855 568.214,-177.85\"/>\r\n",
       "</g>\r\n",
       "<!-- gate_2&#45;&gt;gate_3 -->\r\n",
       "<g id=\"edge8\" class=\"edge\"><title>gate_2&#45;&gt;gate_3</title>\r\n",
       "<path fill=\"none\" stroke=\"black\" d=\"M435.602,-185.167C469.804,-187.247 526.037,-187.624 568.208,-186.296\"/>\r\n",
       "<polygon fill=\"black\" stroke=\"black\" points=\"568.465,-189.789 578.333,-185.932 568.214,-182.793 568.465,-189.789\"/>\r\n",
       "</g>\r\n",
       "</g>\r\n",
       "</svg>\r\n"
      ],
      "text/plain": [
       "<graphviz.dot.Digraph at 0x1679d6cb2e8>"
      ]
     },
     "execution_count": 7,
     "metadata": {},
     "output_type": "execute_result"
    }
   ],
   "source": [
    "C.render_eval(1,1,1)"
   ]
  },
  {
   "cell_type": "code",
   "execution_count": 8,
   "metadata": {},
   "outputs": [],
   "source": [
    "import re\n",
    "def numinout(prog):\n",
    "    '''Compute the number of inputs and outputs of a NAND program, given as a string of source code.'''\n",
    "    n = max([int(s[2:-1]) for s in re.findall(r'X\\[\\d+\\]',prog)])+1\n",
    "    m = max([int(s[2:-1]) for s in re.findall(r'Y\\[\\d+\\]',prog)])+1\n",
    "    return n,m"
   ]
  },
  {
   "cell_type": "code",
   "execution_count": 9,
   "metadata": {},
   "outputs": [],
   "source": [
    "def prog2circuit(code,gateset=None):\n",
    "    \"\"\"Transform a straightline program into a circuit.\n",
    "       Takes as input the basic gates one uses (otherwise use all functions currently defined)\"\"\"\n",
    "    if not gateset: gateset = globals()\n",
    "    n,m = numinout(code) # helper function - extract number of inputs and outputs from code\n",
    "    C = Circuit(n) # create circuit with n inputs \n",
    "    \n",
    "    nodes = { f\"X[{i}]\" : C.X[i] for i in range(n) }\n",
    "    # initially we have n nodes corresponding to n inputs.\n",
    "    \n",
    "    for line in code.split(\"\\n\"): # every line is translated to a new gate\n",
    "        if not line: continue\n",
    "        foo,op,bar,blah = parseline(line,2) \n",
    "        # parseline takes \"foo = OP(bar,blah)\" to the list [\"foo\",\"OP\",\"bar\",\"blah\"]\n",
    "        if blah: g = C.gate(gateset[op],nodes[bar],nodes[blah])\n",
    "        else: g = C.gate(gateset[op],nodes[bar])\n",
    "        nodes[foo] = g\n",
    "        if foo[0]==\"Y\": C.output(g,int(foo[2:-1]))\n",
    "    \n",
    "    return C\n",
    "    "
   ]
  },
  {
   "cell_type": "code",
   "execution_count": 10,
   "metadata": {},
   "outputs": [],
   "source": [
    "def circuit2prog(C):\n",
    "    \"\"\"Transform circuit to a program.\"\"\"\n",
    "    \n",
    "    code = \"\"\n",
    "    def key2var(key):\n",
    "        \"\"\"Helper function: translate  key identifying a node into a variable name\"\"\"\n",
    "        if key[:6]==\"input_\": return f\"X[{key[6:]}]\"\n",
    "        elif key in C.outputs: return f\"Y[{C.outputs[key]}]\"\n",
    "        return key\n",
    "\n",
    "    # every gate is translated into a line\n",
    "    for (key,n) in C.nodes.items(): \n",
    "        # we assume nodes are in topological ordering, otherwise  should layer first\n",
    "        if n[0]!=\"GATE\": continue  # ignore input (non gate) nodes\n",
    "        args = \",\".join(map(key2var,C.in_neighbors[key]))\n",
    "        code += f\"{key2var(key)} = {n[1].__name__}({args})\\n\"\n",
    "    \n",
    "    return code"
   ]
  },
  {
   "cell_type": "code",
   "execution_count": 11,
   "metadata": {},
   "outputs": [
    {
     "name": "stdout",
     "output_type": "stream",
     "text": [
      "gate_0 = NAND(X[0],X[1])\n",
      "gate_1 = NAND(X[0],X[2])\n",
      "gate_2 = NAND(gate_0,gate_1)\n",
      "Y[0] = NAND(gate_2,gate_2)\n",
      "\n"
     ]
    }
   ],
   "source": [
    "print(circuit2prog(C))"
   ]
  },
  {
   "cell_type": "code",
   "execution_count": 12,
   "metadata": {},
   "outputs": [],
   "source": [
    "prog = r\"\"\"\n",
    "temp = NAND(X[0],X[1])\n",
    "Y[0] = NAND(temp,temp)\"\"\"[1:]\n"
   ]
  },
  {
   "cell_type": "code",
   "execution_count": 13,
   "metadata": {},
   "outputs": [
    {
     "data": {
      "image/svg+xml": [
       "<?xml version=\"1.0\" encoding=\"UTF-8\" standalone=\"no\"?>\r\n",
       "<!DOCTYPE svg PUBLIC \"-//W3C//DTD SVG 1.1//EN\"\r\n",
       " \"http://www.w3.org/Graphics/SVG/1.1/DTD/svg11.dtd\">\r\n",
       "<!-- Generated by graphviz version 2.38.0 (20140413.2041)\r\n",
       " -->\r\n",
       "<!-- Title: %3 Pages: 1 -->\r\n",
       "<svg width=\"710pt\" height=\"360pt\"\r\n",
       " viewBox=\"0.00 0.00 710.18 360.00\" xmlns=\"http://www.w3.org/2000/svg\" xmlns:xlink=\"http://www.w3.org/1999/xlink\">\r\n",
       "<g id=\"graph0\" class=\"graph\" transform=\"scale(0.973736 0.973736) rotate(0) translate(4 365.71)\">\r\n",
       "<title>%3</title>\r\n",
       "<polygon fill=\"white\" stroke=\"none\" points=\"-4,4 -4,-365.71 725.333,-365.71 725.333,4 -4,4\"/>\r\n",
       "<!-- input_0 -->\r\n",
       "<g id=\"node1\" class=\"node\"><title>input_0</title>\r\n",
       "<ellipse fill=\"none\" stroke=\"black\" cx=\"52.3328\" cy=\"-288.246\" rx=\"18.9396\" ry=\"18.9396\"/>\r\n",
       "<text text-anchor=\"middle\" x=\"52.3328\" y=\"-286.346\" font-family=\"Times New Roman,serif\" font-size=\"8.00\" fill=\"blue\">X[0]</text>\r\n",
       "</g>\r\n",
       "<!-- gate_0 -->\r\n",
       "<g id=\"node3\" class=\"node\"><title>gate_0</title>\r\n",
       "<polygon fill=\"none\" stroke=\"black\" points=\"291.013,-161.246 310.423,-179.246 291.013,-197.246 259.607,-197.23 259.607,-161.263 291.013,-161.246\"/>\r\n",
       "<text text-anchor=\"middle\" x=\"282.333\" y=\"-177.346\" font-family=\"Times New Roman,serif\" font-size=\"8.00\">¬∧</text>\r\n",
       "</g>\r\n",
       "<!-- input_0&#45;&gt;gate_0 -->\r\n",
       "<g id=\"edge1\" class=\"edge\"><title>input_0&#45;&gt;gate_0</title>\r\n",
       "<path fill=\"none\" stroke=\"black\" d=\"M69.73,-280.407C107.541,-262.331 201.35,-217.484 250.374,-194.047\"/>\r\n",
       "<polygon fill=\"black\" stroke=\"black\" points=\"252.039,-197.13 259.552,-189.659 249.02,-190.815 252.039,-197.13\"/>\r\n",
       "</g>\r\n",
       "<!-- input_1 -->\r\n",
       "<g id=\"node2\" class=\"node\"><title>input_1</title>\r\n",
       "<ellipse fill=\"none\" stroke=\"black\" cx=\"52.3328\" cy=\"-73.2464\" rx=\"18.9396\" ry=\"18.9396\"/>\r\n",
       "<text text-anchor=\"middle\" x=\"52.3328\" y=\"-71.3464\" font-family=\"Times New Roman,serif\" font-size=\"8.00\" fill=\"blue\">X[1]</text>\r\n",
       "</g>\r\n",
       "<!-- input_1&#45;&gt;gate_0 -->\r\n",
       "<g id=\"edge2\" class=\"edge\"><title>input_1&#45;&gt;gate_0</title>\r\n",
       "<path fill=\"none\" stroke=\"black\" d=\"M69.73,-80.8697C107.541,-98.4486 201.35,-142.061 250.374,-164.853\"/>\r\n",
       "<polygon fill=\"black\" stroke=\"black\" points=\"249.008,-168.078 259.552,-169.12 251.959,-161.731 249.008,-168.078\"/>\r\n",
       "</g>\r\n",
       "<!-- gate_1 -->\r\n",
       "<g id=\"node4\" class=\"node\"><title>gate_1</title>\r\n",
       "<polygon fill=\"none\" stroke=\"black\" points=\"604.842,-161.246 637.285,-179.246 604.842,-197.246 552.348,-197.23 552.348,-161.263 604.842,-161.246\"/>\r\n",
       "<text text-anchor=\"middle\" x=\"590.333\" y=\"-177.346\" font-family=\"Times New Roman,serif\" font-size=\"8.00\" fill=\"red\">¬∧ →Y[0]</text>\r\n",
       "</g>\r\n",
       "<!-- gate_0&#45;&gt;gate_1 -->\r\n",
       "<g id=\"edge3\" class=\"edge\"><title>gate_0&#45;&gt;gate_1</title>\r\n",
       "<path fill=\"none\" stroke=\"black\" d=\"M306.584,-175.456C356.627,-171.985 475.391,-171.567 541.981,-174.202\"/>\r\n",
       "<polygon fill=\"black\" stroke=\"black\" points=\"542.058,-177.709 552.202,-174.651 542.365,-170.715 542.058,-177.709\"/>\r\n",
       "</g>\r\n",
       "<!-- gate_0&#45;&gt;gate_1 -->\r\n",
       "<g id=\"edge4\" class=\"edge\"><title>gate_0&#45;&gt;gate_1</title>\r\n",
       "<path fill=\"none\" stroke=\"black\" d=\"M306.584,-183.037C356.627,-186.508 475.391,-186.926 541.981,-184.291\"/>\r\n",
       "<polygon fill=\"black\" stroke=\"black\" points=\"542.365,-187.777 552.202,-183.842 542.058,-180.784 542.365,-187.777\"/>\r\n",
       "</g>\r\n",
       "</g>\r\n",
       "</svg>\r\n"
      ],
      "text/plain": [
       "<__main__.Circuit at 0x1679d6f54a8>"
      ]
     },
     "execution_count": 13,
     "metadata": {},
     "output_type": "execute_result"
    }
   ],
   "source": [
    "prog2circuit(prog)"
   ]
  },
  {
   "cell_type": "code",
   "execution_count": null,
   "metadata": {},
   "outputs": [],
   "source": []
  }
 ],
 "metadata": {
  "kernelspec": {
   "display_name": "Python 3",
   "language": "python",
   "name": "python3"
  },
  "language_info": {
   "codemirror_mode": {
    "name": "ipython",
    "version": 3
   },
   "file_extension": ".py",
   "mimetype": "text/x-python",
   "name": "python",
   "nbconvert_exporter": "python",
   "pygments_lexer": "ipython3",
   "version": "3.7.2"
  }
 },
 "nbformat": 4,
 "nbformat_minor": 2
}
